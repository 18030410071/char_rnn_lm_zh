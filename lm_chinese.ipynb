{
 "cells": [
  {
   "cell_type": "code",
   "execution_count": null,
   "metadata": {
    "collapsed": true
   },
   "outputs": [],
   "source": [
    "import torch\n",
    "import torch.nn as nn\n",
    "from torch.autograd import Variable\n",
    "\n",
    "import time\n",
    "import math\n",
    "\n",
    "use_cuda = torch.cuda.is_available()"
   ]
  },
  {
   "cell_type": "code",
   "execution_count": null,
   "metadata": {
    "collapsed": true
   },
   "outputs": [],
   "source": [
    "class LMConfiguration(object):\n",
    "    rnn_type = 'LSTM'\n",
    "    vocab_size = 5000\n",
    "    embedding_dim = 200\n",
    "    hidden_dim = 200\n",
    "    n_layers = 2\n",
    "    dropout = 0.5\n",
    "    tied_weights = True\n",
    "    \n",
    "    max_len = 30\n",
    "    learning_rate = 20"
   ]
  },
  {
   "cell_type": "code",
   "execution_count": null,
   "metadata": {
    "collapsed": true
   },
   "outputs": [],
   "source": [
    "class RNNModel(nn.Module):\n",
    "    def __init__(self, config):\n",
    "        super(RNNModel, self).__init__()\n",
    "        \n",
    "        dropout = config.dropout\n",
    "        vocab_size = config.vocab_size\n",
    "        embedding_dim = config.embedding_dim\n",
    "        tied_weights = config.tied_weights\n",
    "        \n",
    "        self.hidden_dim = hidden_dim = config.hidden_dim\n",
    "        self.rnn_type = rnn_type = config.rnn_type\n",
    "        self.n_layers = n_layers = config.n_layers\n",
    "        \n",
    "        self.drop = nn.Dropout(dropout)\n",
    "        self.encoder = nn.Embedding(vocab_size, embedding_dim)\n",
    "        \n",
    "        if rnn_type in ['LSTM', 'GRU']:\n",
    "            self.rnn = getattr(nn, rnn_type)(embedding_dim, hidden_dim, n_layers, dropout=dropout)\n",
    "        else:\n",
    "            raise ValueError(\"\"\"'rnn_type' error, use ['LSTM', 'GRU']\"\"\")\n",
    "            \n",
    "        self.decoder = nn.Linear(hidden_dim, vocab_size)\n",
    "        \n",
    "        if tied_weights:\n",
    "            if embedding_dim != hidden_dim:\n",
    "                raise ValueError('When using the tied falg, embedding_dim must be equal to hidden_dim')\n",
    "            self.decoder.weight = self.encoder.weight   \n",
    "        \n",
    "        self.init_weights()\n",
    "        \n",
    "    def forward(self, inputs, hidden):\n",
    "        embedded = self.drop(self.encoder(inputs))\n",
    "        output, hidden = self.rnn(embedded, hidden)\n",
    "        output = self.drop(output)\n",
    "        decoded = self.decoder(output.view(output.size(0) * output.size(1), output.size(2)))\n",
    "        return decoded.view(output.size(0), output.size(1), decoded.size(1)), hidden\n",
    "        \n",
    "            \n",
    "    def init_weights(self):\n",
    "        initrange = 0.1\n",
    "        self.encoder.weight.data.uniform_(-initrange, initrange)\n",
    "        self.decoder.weight.data.uniform_(-initrange, initrange)\n",
    "        self.decoder.bias.data.fill_(0)\n",
    "        \n",
    "    def init_hidden(self, bsz):\n",
    "        weight = next(self.parameters()).data\n",
    "        if self.rnn_type == 'LSTM':\n",
    "            # LSTM h0, c0\n",
    "            return (Variable(weight.new(self.n_layers, bsz, self.hidden_dim).zero_()),\n",
    "                    Variable(weight.new(self.n_layers, bsz, self.hidden_dim).zero_()))\n",
    "        else:\n",
    "            # GRU h0\n",
    "            return Variable(weight.new(self.n_layers, bsz, self.hidden_dim).zero_())"
   ]
  },
  {
   "cell_type": "code",
   "execution_count": null,
   "metadata": {
    "collapsed": true
   },
   "outputs": [],
   "source": [
    "def batchify(data, bsz):\n",
    "    # Work out how cleanly we can divide the dataset into bsz parts.\n",
    "    nbatch = data.size(0) // bsz\n",
    "    # Trim off any extra elements that wouldn't cleanly fit (remainders).\n",
    "    data = data.narrow(0, 0, nbatch * bsz)\n",
    "    # Evenly divide the data across the bsz batches.\n",
    "    data = data.view(bsz, -1).t().contiguous()\n",
    "    if use_cuda:\n",
    "        data = data.cuda()\n",
    "    return data"
   ]
  },
  {
   "cell_type": "code",
   "execution_count": null,
   "metadata": {
    "collapsed": true
   },
   "outputs": [],
   "source": [
    "from data_zh import *"
   ]
  },
  {
   "cell_type": "code",
   "execution_count": null,
   "metadata": {
    "collapsed": true
   },
   "outputs": [],
   "source": [
    "corpus = Corpus('data/sanguoyanyi.txt')"
   ]
  },
  {
   "cell_type": "code",
   "execution_count": null,
   "metadata": {},
   "outputs": [],
   "source": [
    "print(len(corpus.dictionary))\n",
    "print(len(corpus.train))"
   ]
  },
  {
   "cell_type": "code",
   "execution_count": null,
   "metadata": {
    "collapsed": true
   },
   "outputs": [],
   "source": [
    "train_batch_size = 20\n",
    "config = LMConfiguration()\n",
    "train_data = batchify(corpus.train, train_batch_size)"
   ]
  },
  {
   "cell_type": "code",
   "execution_count": null,
   "metadata": {},
   "outputs": [],
   "source": [
    "print(train_data.size())"
   ]
  },
  {
   "cell_type": "code",
   "execution_count": null,
   "metadata": {
    "collapsed": true
   },
   "outputs": [],
   "source": [
    "config.vocab_size = len(corpus.dictionary)\n",
    "model = RNNModel(config)"
   ]
  },
  {
   "cell_type": "code",
   "execution_count": null,
   "metadata": {
    "collapsed": true
   },
   "outputs": [],
   "source": [
    "if use_cuda:\n",
    "    model.cuda()"
   ]
  },
  {
   "cell_type": "code",
   "execution_count": null,
   "metadata": {
    "collapsed": true
   },
   "outputs": [],
   "source": [
    "criterion = nn.CrossEntropyLoss()"
   ]
  },
  {
   "cell_type": "code",
   "execution_count": null,
   "metadata": {
    "collapsed": true
   },
   "outputs": [],
   "source": [
    "def get_batch(source, i, evaluation=False):\n",
    "    seq_len = min(config.max_len, len(source) - 1 - i)\n",
    "    data = Variable(source[i:i+seq_len], volatile=evaluation)\n",
    "    target = Variable(source[i+1:i+1+seq_len].view(-1))\n",
    "    return data, target"
   ]
  },
  {
   "cell_type": "code",
   "execution_count": null,
   "metadata": {
    "collapsed": true
   },
   "outputs": [],
   "source": [
    "def repackage_hidden(h):\n",
    "    if type(h) == Variable:\n",
    "        return Variable(h.data)\n",
    "    else:\n",
    "        return tuple(repackage_hidden(v) for v in h)"
   ]
  },
  {
   "cell_type": "code",
   "execution_count": null,
   "metadata": {
    "collapsed": true
   },
   "outputs": [],
   "source": [
    "def train():\n",
    "    model.train()\n",
    "    total_loss = 0\n",
    "    start_time = time.time()\n",
    "    hidden = model.init_hidden(train_batch_size)\n",
    "    for batch, i in enumerate(range(0, train_data.size(0) - 1, config.max_len)):\n",
    "        data, targets = get_batch(train_data, i)\n",
    "        \n",
    "        hidden = repackage_hidden(hidden)\n",
    "        model.zero_grad()\n",
    "        output, hidden = model(data, hidden)\n",
    "        print(output.size())\n",
    "        loss = criterion(output.view(-1, config.vocab_size), targets)\n",
    "        loss.backward()\n",
    "        \n",
    "        torch.nn.utils.clip_grad_norm(model.parameters(), 0.25)\n",
    "        \n",
    "        for p in model.parameters():\n",
    "            p.data.add_(-lr, p.grad.data)\n",
    "        \n",
    "        total_loss += loss.data\n",
    "        \n",
    "        print_per_batch = 200\n",
    "        if batch % 200 == 0 and batch > 0:\n",
    "            cur_loss = total_loss[0] / print_per_batch\n",
    "            elapsed = time.time() - start_time\n",
    "            msg = '| epoch {:3d} | {:5d}/{:5d} batches | lr {:02.2f} | ms/batch {:5.2f} | loss {:5.2f} | ppl {:8.2f} |'\n",
    "            print(msg.format(epoch, batch, len(train_data) // config.max_len, lr, \n",
    "                     elapsed * 1000 / print_per_batch, cur_loss, math.exp(cur_loss)))\n",
    "            total_loss = 0\n",
    "            start_time = time.time()\n",
    "            \n",
    "        if batch % 1000 == 0 and batch > 0:\n",
    "            word_list = generate()\n",
    "            print(''.join(word_list))"
   ]
  },
  {
   "cell_type": "code",
   "execution_count": null,
   "metadata": {
    "collapsed": true
   },
   "outputs": [],
   "source": [
    "def generate(word_len=100):\n",
    "    inputs = Variable(torch.rand(1, 1).mul(config.vocab_size).long(), volatile=True)\n",
    "    if use_cuda:\n",
    "        inputs.data = inputs.data.cuda()\n",
    "    hidden = model.init_hidden(1)\n",
    "    word_list = []\n",
    "    for i in range(word_len):\n",
    "        output, hidden = model(inputs, hidden)\n",
    "        print(output.size())\n",
    "        word_weights = output.squeeze().data.div(1).exp().cpu()\n",
    "        word_idx = torch.multinomial(word_weights, 1)[0]\n",
    "        inputs.data.fill_(word_idx)\n",
    "        print('i', inputs.size())\n",
    "        word = corpus.dictionary.idx2word[word_idx]\n",
    "        word_list.append(word)\n",
    "    return word_list"
   ]
  },
  {
   "cell_type": "code",
   "execution_count": null,
   "metadata": {},
   "outputs": [],
   "source": [
    "generate()"
   ]
  },
  {
   "cell_type": "code",
   "execution_count": null,
   "metadata": {
    "scrolled": true
   },
   "outputs": [],
   "source": [
    "lr = config.learning_rate\n",
    "for epoch in range(1, 2):\n",
    "    train()\n",
    "    lr /= 4"
   ]
  },
  {
   "cell_type": "code",
   "execution_count": null,
   "metadata": {},
   "outputs": [],
   "source": [
    "inputs = Variable(torch.rand(1, 1).mul(config.vocab_size).long(), volatile=True)\n",
    "if use_cuda:\n",
    "    inputs.data = inputs.data.cuda()\n",
    "hidden = model.init_hidden(1)\n",
    "word_list = []\n",
    "print(inputs)"
   ]
  },
  {
   "cell_type": "code",
   "execution_count": null,
   "metadata": {
    "collapsed": true
   },
   "outputs": [],
   "source": [
    "output, hidden = model(inputs, hidden)"
   ]
  },
  {
   "cell_type": "code",
   "execution_count": null,
   "metadata": {},
   "outputs": [],
   "source": [
    "output"
   ]
  },
  {
   "cell_type": "code",
   "execution_count": null,
   "metadata": {
    "collapsed": true
   },
   "outputs": [],
   "source": []
  }
 ],
 "metadata": {
  "kernelspec": {
   "display_name": "Python 3",
   "language": "python",
   "name": "python3"
  },
  "language_info": {
   "codemirror_mode": {
    "name": "ipython",
    "version": 3
   },
   "file_extension": ".py",
   "mimetype": "text/x-python",
   "name": "python",
   "nbconvert_exporter": "python",
   "pygments_lexer": "ipython3",
   "version": "3.5.3"
  }
 },
 "nbformat": 4,
 "nbformat_minor": 2
}

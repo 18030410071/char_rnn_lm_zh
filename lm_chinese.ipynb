{
 "cells": [
  {
   "cell_type": "code",
   "execution_count": 1,
   "metadata": {
    "collapsed": true
   },
   "outputs": [],
   "source": [
    "import torch\n",
    "import torch.nn as nn\n",
    "from torch.autograd import Variable\n",
    "\n",
    "import time\n",
    "import math\n",
    "\n",
    "use_cuda = torch.cuda.is_available()"
   ]
  },
  {
   "cell_type": "code",
   "execution_count": 2,
   "metadata": {
    "collapsed": true
   },
   "outputs": [],
   "source": [
    "class LMConfiguration(object):\n",
    "    rnn_type = 'LSTM'\n",
    "    vocab_size = 5000\n",
    "    embedding_dim = 200\n",
    "    hidden_dim = 200\n",
    "    n_layers = 2\n",
    "    dropout = 0.5\n",
    "    tied_weights = True\n",
    "    \n",
    "    max_len = 30\n",
    "    learning_rate = 20"
   ]
  },
  {
   "cell_type": "code",
   "execution_count": 3,
   "metadata": {
    "collapsed": true
   },
   "outputs": [],
   "source": [
    "class RNNModel(nn.Module):\n",
    "    def __init__(self, config):\n",
    "        super(RNNModel, self).__init__()\n",
    "        \n",
    "        dropout = config.dropout\n",
    "        vocab_size = config.vocab_size\n",
    "        embedding_dim = config.embedding_dim\n",
    "        tied_weights = config.tied_weights\n",
    "        \n",
    "        self.hidden_dim = hidden_dim = config.hidden_dim\n",
    "        self.rnn_type = rnn_type = config.rnn_type\n",
    "        self.n_layers = n_layers = config.n_layers\n",
    "        \n",
    "        self.drop = nn.Dropout(dropout)\n",
    "        self.encoder = nn.Embedding(vocab_size, embedding_dim)\n",
    "        \n",
    "        if rnn_type in ['LSTM', 'GRU']:\n",
    "            self.rnn = getattr(nn, rnn_type)(embedding_dim, hidden_dim, n_layers, dropout=dropout)\n",
    "        else:\n",
    "            raise ValueError(\"\"\"'rnn_type' error, use ['LSTM', 'GRU']\"\"\")\n",
    "            \n",
    "        self.decoder = nn.Linear(hidden_dim, vocab_size)\n",
    "        \n",
    "        if tied_weights:\n",
    "            if embedding_dim != hidden_dim:\n",
    "                raise ValueError('When using the tied falg, embedding_dim must be equal to hidden_dim')\n",
    "            self.decoder.weight = self.encoder.weight   \n",
    "        \n",
    "        self.init_weights()\n",
    "        \n",
    "    def forward(self, inputs, hidden):\n",
    "        embedded = self.drop(self.encoder(inputs))\n",
    "        output, hidden = self.rnn(embedded, hidden)\n",
    "        output = self.drop(output)\n",
    "        decoded = self.decoder(output.view(output.size(0) * output.size(1), output.size(2)))\n",
    "        return decoded.view(output.size(0), output.size(1), decoded.size(1)), hidden\n",
    "        \n",
    "            \n",
    "    def init_weights(self):\n",
    "        initrange = 0.1\n",
    "        self.encoder.weight.data.uniform_(-initrange, initrange)\n",
    "        self.decoder.weight.data.uniform_(-initrange, initrange)\n",
    "        self.decoder.bias.data.fill_(0)\n",
    "        \n",
    "    def init_hidden(self, bsz):\n",
    "        weight = next(self.parameters()).data\n",
    "        if self.rnn_type == 'LSTM':\n",
    "            # LSTM h0, c0\n",
    "            return (Variable(weight.new(self.n_layers, bsz, self.hidden_dim).zero_()),\n",
    "                    Variable(weight.new(self.n_layers, bsz, self.hidden_dim).zero_()))\n",
    "        else:\n",
    "            # GRU h0\n",
    "            return Variable(weight.new(self.n_layers, bsz, self.hidden_dim).zero_())"
   ]
  },
  {
   "cell_type": "code",
   "execution_count": 4,
   "metadata": {
    "collapsed": true
   },
   "outputs": [],
   "source": [
    "def batchify(data, bsz):\n",
    "    # Work out how cleanly we can divide the dataset into bsz parts.\n",
    "    nbatch = data.size(0) // bsz\n",
    "    # Trim off any extra elements that wouldn't cleanly fit (remainders).\n",
    "    data = data.narrow(0, 0, nbatch * bsz)\n",
    "    # Evenly divide the data across the bsz batches.\n",
    "    data = data.view(bsz, -1).t().contiguous()\n",
    "    if use_cuda:\n",
    "        data = data.cuda()\n",
    "    return data"
   ]
  },
  {
   "cell_type": "code",
   "execution_count": 5,
   "metadata": {
    "collapsed": true
   },
   "outputs": [],
   "source": [
    "from data_zh import *"
   ]
  },
  {
   "cell_type": "code",
   "execution_count": 6,
   "metadata": {},
   "outputs": [],
   "source": [
    "corpus = Corpus('data/sanguoyanyi.txt')"
   ]
  },
  {
   "cell_type": "code",
   "execution_count": 7,
   "metadata": {},
   "outputs": [
    {
     "name": "stdout",
     "output_type": "stream",
     "text": [
      "4003\n",
      "606572\n"
     ]
    }
   ],
   "source": [
    "print(len(corpus.dictionary))\n",
    "print(len(corpus.train))"
   ]
  },
  {
   "cell_type": "code",
   "execution_count": 8,
   "metadata": {
    "collapsed": true
   },
   "outputs": [],
   "source": [
    "train_batch_size = 20\n",
    "config = LMConfiguration()\n",
    "train_data = batchify(corpus.train, train_batch_size)"
   ]
  },
  {
   "cell_type": "code",
   "execution_count": 9,
   "metadata": {},
   "outputs": [
    {
     "name": "stdout",
     "output_type": "stream",
     "text": [
      "torch.Size([30328, 20])\n"
     ]
    }
   ],
   "source": [
    "print(train_data.size())"
   ]
  },
  {
   "cell_type": "code",
   "execution_count": 10,
   "metadata": {
    "collapsed": true
   },
   "outputs": [],
   "source": [
    "config.vocab_size = len(corpus.dictionary)\n",
    "model = RNNModel(config)"
   ]
  },
  {
   "cell_type": "code",
   "execution_count": 11,
   "metadata": {
    "collapsed": true
   },
   "outputs": [],
   "source": [
    "if use_cuda:\n",
    "    model.cuda()"
   ]
  },
  {
   "cell_type": "code",
   "execution_count": 12,
   "metadata": {
    "collapsed": true
   },
   "outputs": [],
   "source": [
    "criterion = nn.CrossEntropyLoss()"
   ]
  },
  {
   "cell_type": "code",
   "execution_count": 13,
   "metadata": {
    "collapsed": true
   },
   "outputs": [],
   "source": [
    "def get_batch(source, i, evaluation=False):\n",
    "    seq_len = min(config.max_len, len(source) - 1 - i)\n",
    "    data = Variable(source[i:i+seq_len], volatile=evaluation)\n",
    "    target = Variable(source[i+1:i+1+seq_len].view(-1))\n",
    "    return data, target"
   ]
  },
  {
   "cell_type": "code",
   "execution_count": 14,
   "metadata": {
    "collapsed": true
   },
   "outputs": [],
   "source": [
    "def repackage_hidden(h):\n",
    "    if type(h) == Variable:\n",
    "        return Variable(h.data)\n",
    "    else:\n",
    "        return tuple(repackage_hidden(v) for v in h)"
   ]
  },
  {
   "cell_type": "code",
   "execution_count": 24,
   "metadata": {
    "collapsed": true
   },
   "outputs": [],
   "source": [
    "def train():\n",
    "    model.train()\n",
    "    total_loss = 0\n",
    "    start_time = time.time()\n",
    "    hidden = model.init_hidden(train_batch_size)\n",
    "    for batch, i in enumerate(range(0, train_data.size(0) - 1, config.max_len)):\n",
    "        data, targets = get_batch(train_data, i)\n",
    "        \n",
    "        hidden = repackage_hidden(hidden)\n",
    "        model.zero_grad()\n",
    "        output, hidden = model(data, hidden)\n",
    "        print(output.size())\n",
    "        loss = criterion(output.view(-1, config.vocab_size), targets)\n",
    "        loss.backward()\n",
    "        \n",
    "        torch.nn.utils.clip_grad_norm(model.parameters(), 0.25)\n",
    "        \n",
    "        for p in model.parameters():\n",
    "            p.data.add_(-lr, p.grad.data)\n",
    "        \n",
    "        total_loss += loss.data\n",
    "        \n",
    "        print_per_batch = 200\n",
    "        if batch % 200 == 0 and batch > 0:\n",
    "            cur_loss = total_loss[0] / print_per_batch\n",
    "            elapsed = time.time() - start_time\n",
    "            msg = '| epoch {:3d} | {:5d}/{:5d} batches | lr {:02.2f} | ms/batch {:5.2f} | loss {:5.2f} | ppl {:8.2f} |'\n",
    "            print(msg.format(epoch, batch, len(train_data) // config.max_len, lr, \n",
    "                     elapsed * 1000 / print_per_batch, cur_loss, math.exp(cur_loss)))\n",
    "            total_loss = 0\n",
    "            start_time = time.time()\n",
    "            \n",
    "        if batch % 1000 == 0 and batch > 0:\n",
    "            word_list = generate()\n",
    "            print(''.join(word_list))"
   ]
  },
  {
   "cell_type": "code",
   "execution_count": 18,
   "metadata": {
    "collapsed": true
   },
   "outputs": [],
   "source": [
    "def generate(word_len=100):\n",
    "    inputs = Variable(torch.rand(1, 1).mul(config.vocab_size).long(), volatile=True)\n",
    "    if use_cuda:\n",
    "        inputs.data = inputs.data.cuda()\n",
    "    hidden = model.init_hidden(1)\n",
    "    word_list = []\n",
    "    for i in range(word_len):\n",
    "        output, hidden = model(inputs, hidden)\n",
    "        word_weights = output.squeeze().data.div(1).exp().cpu()\n",
    "        word_idx = torch.multinomial(word_weights, 1)[0]\n",
    "        inputs.data.fill_(word_idx)\n",
    "        word = corpus.dictionary.idx2word[word_idx]\n",
    "        word_list.append(word)\n",
    "    return word_list"
   ]
  },
  {
   "cell_type": "code",
   "execution_count": 25,
   "metadata": {
    "scrolled": true
   },
   "outputs": [
    {
     "name": "stdout",
     "output_type": "stream",
     "text": [
      "torch.Size([30, 20, 4003])\n",
      "torch.Size([30, 20, 4003])\n",
      "torch.Size([30, 20, 4003])\n",
      "torch.Size([30, 20, 4003])\n",
      "torch.Size([30, 20, 4003])\n",
      "torch.Size([30, 20, 4003])\n",
      "torch.Size([30, 20, 4003])\n",
      "torch.Size([30, 20, 4003])\n",
      "torch.Size([30, 20, 4003])\n",
      "torch.Size([30, 20, 4003])\n",
      "torch.Size([30, 20, 4003])\n",
      "torch.Size([30, 20, 4003])\n",
      "torch.Size([30, 20, 4003])\n",
      "torch.Size([30, 20, 4003])\n",
      "torch.Size([30, 20, 4003])\n",
      "torch.Size([30, 20, 4003])\n",
      "torch.Size([30, 20, 4003])\n",
      "torch.Size([30, 20, 4003])\n",
      "torch.Size([30, 20, 4003])\n",
      "torch.Size([30, 20, 4003])\n",
      "torch.Size([30, 20, 4003])\n",
      "torch.Size([30, 20, 4003])\n",
      "torch.Size([30, 20, 4003])\n",
      "torch.Size([30, 20, 4003])\n",
      "torch.Size([30, 20, 4003])\n",
      "torch.Size([30, 20, 4003])\n",
      "torch.Size([30, 20, 4003])\n",
      "torch.Size([30, 20, 4003])\n",
      "torch.Size([30, 20, 4003])\n",
      "torch.Size([30, 20, 4003])\n",
      "torch.Size([30, 20, 4003])\n",
      "torch.Size([30, 20, 4003])\n",
      "torch.Size([30, 20, 4003])\n",
      "torch.Size([30, 20, 4003])\n",
      "torch.Size([30, 20, 4003])\n",
      "torch.Size([30, 20, 4003])\n",
      "torch.Size([30, 20, 4003])\n",
      "torch.Size([30, 20, 4003])\n",
      "torch.Size([30, 20, 4003])\n",
      "torch.Size([30, 20, 4003])\n",
      "torch.Size([30, 20, 4003])\n",
      "torch.Size([30, 20, 4003])\n",
      "torch.Size([30, 20, 4003])\n",
      "torch.Size([30, 20, 4003])\n",
      "torch.Size([30, 20, 4003])\n",
      "torch.Size([30, 20, 4003])\n",
      "torch.Size([30, 20, 4003])\n",
      "torch.Size([30, 20, 4003])\n",
      "torch.Size([30, 20, 4003])\n",
      "torch.Size([30, 20, 4003])\n",
      "torch.Size([30, 20, 4003])\n",
      "torch.Size([30, 20, 4003])\n",
      "torch.Size([30, 20, 4003])\n",
      "torch.Size([30, 20, 4003])\n",
      "torch.Size([30, 20, 4003])\n",
      "torch.Size([30, 20, 4003])\n",
      "torch.Size([30, 20, 4003])\n",
      "torch.Size([30, 20, 4003])\n",
      "torch.Size([30, 20, 4003])\n",
      "torch.Size([30, 20, 4003])\n",
      "torch.Size([30, 20, 4003])\n",
      "torch.Size([30, 20, 4003])\n",
      "torch.Size([30, 20, 4003])\n",
      "torch.Size([30, 20, 4003])\n",
      "torch.Size([30, 20, 4003])\n",
      "torch.Size([30, 20, 4003])\n",
      "torch.Size([30, 20, 4003])\n",
      "torch.Size([30, 20, 4003])\n",
      "torch.Size([30, 20, 4003])\n",
      "torch.Size([30, 20, 4003])\n",
      "torch.Size([30, 20, 4003])\n",
      "torch.Size([30, 20, 4003])\n",
      "torch.Size([30, 20, 4003])\n",
      "torch.Size([30, 20, 4003])\n",
      "torch.Size([30, 20, 4003])\n",
      "torch.Size([30, 20, 4003])\n",
      "torch.Size([30, 20, 4003])\n",
      "torch.Size([30, 20, 4003])\n",
      "torch.Size([30, 20, 4003])\n",
      "torch.Size([30, 20, 4003])\n",
      "torch.Size([30, 20, 4003])\n",
      "torch.Size([30, 20, 4003])\n",
      "torch.Size([30, 20, 4003])\n",
      "torch.Size([30, 20, 4003])\n",
      "torch.Size([30, 20, 4003])\n",
      "torch.Size([30, 20, 4003])\n",
      "torch.Size([30, 20, 4003])\n",
      "torch.Size([30, 20, 4003])\n",
      "torch.Size([30, 20, 4003])\n",
      "torch.Size([30, 20, 4003])\n",
      "torch.Size([30, 20, 4003])\n",
      "torch.Size([30, 20, 4003])\n",
      "torch.Size([30, 20, 4003])\n",
      "torch.Size([30, 20, 4003])\n",
      "torch.Size([30, 20, 4003])\n",
      "torch.Size([30, 20, 4003])\n",
      "torch.Size([30, 20, 4003])\n",
      "torch.Size([30, 20, 4003])\n",
      "torch.Size([30, 20, 4003])\n",
      "torch.Size([30, 20, 4003])\n",
      "torch.Size([30, 20, 4003])\n",
      "torch.Size([30, 20, 4003])\n",
      "torch.Size([30, 20, 4003])\n",
      "torch.Size([30, 20, 4003])\n",
      "torch.Size([30, 20, 4003])\n",
      "torch.Size([30, 20, 4003])\n",
      "torch.Size([30, 20, 4003])\n",
      "torch.Size([30, 20, 4003])\n",
      "torch.Size([30, 20, 4003])\n",
      "torch.Size([30, 20, 4003])\n",
      "torch.Size([30, 20, 4003])\n",
      "torch.Size([30, 20, 4003])\n",
      "torch.Size([30, 20, 4003])\n",
      "torch.Size([30, 20, 4003])\n",
      "torch.Size([30, 20, 4003])\n",
      "torch.Size([30, 20, 4003])\n",
      "torch.Size([30, 20, 4003])\n",
      "torch.Size([30, 20, 4003])\n",
      "torch.Size([30, 20, 4003])\n",
      "torch.Size([30, 20, 4003])\n",
      "torch.Size([30, 20, 4003])\n",
      "torch.Size([30, 20, 4003])\n",
      "torch.Size([30, 20, 4003])\n",
      "torch.Size([30, 20, 4003])\n",
      "torch.Size([30, 20, 4003])\n",
      "torch.Size([30, 20, 4003])\n",
      "torch.Size([30, 20, 4003])\n",
      "torch.Size([30, 20, 4003])\n",
      "torch.Size([30, 20, 4003])\n",
      "torch.Size([30, 20, 4003])\n",
      "torch.Size([30, 20, 4003])\n",
      "torch.Size([30, 20, 4003])\n",
      "torch.Size([30, 20, 4003])\n",
      "torch.Size([30, 20, 4003])\n",
      "torch.Size([30, 20, 4003])\n",
      "torch.Size([30, 20, 4003])\n",
      "torch.Size([30, 20, 4003])\n",
      "torch.Size([30, 20, 4003])\n",
      "torch.Size([30, 20, 4003])\n",
      "torch.Size([30, 20, 4003])\n",
      "torch.Size([30, 20, 4003])\n",
      "torch.Size([30, 20, 4003])\n",
      "torch.Size([30, 20, 4003])\n",
      "torch.Size([30, 20, 4003])\n",
      "torch.Size([30, 20, 4003])\n",
      "torch.Size([30, 20, 4003])\n",
      "torch.Size([30, 20, 4003])\n",
      "torch.Size([30, 20, 4003])\n",
      "torch.Size([30, 20, 4003])\n",
      "torch.Size([30, 20, 4003])\n",
      "torch.Size([30, 20, 4003])\n",
      "torch.Size([30, 20, 4003])\n",
      "torch.Size([30, 20, 4003])\n",
      "torch.Size([30, 20, 4003])\n",
      "torch.Size([30, 20, 4003])\n",
      "torch.Size([30, 20, 4003])\n",
      "torch.Size([30, 20, 4003])\n",
      "torch.Size([30, 20, 4003])\n",
      "torch.Size([30, 20, 4003])\n",
      "torch.Size([30, 20, 4003])\n",
      "torch.Size([30, 20, 4003])\n",
      "torch.Size([30, 20, 4003])\n",
      "torch.Size([30, 20, 4003])\n",
      "torch.Size([30, 20, 4003])\n",
      "torch.Size([30, 20, 4003])\n",
      "torch.Size([30, 20, 4003])\n",
      "torch.Size([30, 20, 4003])\n",
      "torch.Size([30, 20, 4003])\n",
      "torch.Size([30, 20, 4003])\n",
      "torch.Size([30, 20, 4003])\n",
      "torch.Size([30, 20, 4003])\n",
      "torch.Size([30, 20, 4003])\n",
      "torch.Size([30, 20, 4003])\n",
      "torch.Size([30, 20, 4003])\n",
      "torch.Size([30, 20, 4003])\n",
      "torch.Size([30, 20, 4003])\n",
      "torch.Size([30, 20, 4003])\n",
      "torch.Size([30, 20, 4003])\n",
      "torch.Size([30, 20, 4003])\n",
      "torch.Size([30, 20, 4003])\n",
      "torch.Size([30, 20, 4003])\n",
      "torch.Size([30, 20, 4003])\n",
      "torch.Size([30, 20, 4003])\n",
      "torch.Size([30, 20, 4003])\n",
      "torch.Size([30, 20, 4003])\n",
      "torch.Size([30, 20, 4003])\n",
      "torch.Size([30, 20, 4003])\n",
      "torch.Size([30, 20, 4003])\n",
      "torch.Size([30, 20, 4003])\n",
      "torch.Size([30, 20, 4003])\n",
      "torch.Size([30, 20, 4003])\n",
      "torch.Size([30, 20, 4003])\n",
      "torch.Size([30, 20, 4003])\n",
      "torch.Size([30, 20, 4003])\n",
      "torch.Size([30, 20, 4003])\n",
      "torch.Size([30, 20, 4003])\n",
      "torch.Size([30, 20, 4003])\n",
      "torch.Size([30, 20, 4003])\n",
      "torch.Size([30, 20, 4003])\n",
      "torch.Size([30, 20, 4003])\n",
      "torch.Size([30, 20, 4003])\n",
      "| epoch   1 |   200/ 1010 batches | lr 20.00 | ms/batch 10.43 | loss  4.92 | ppl   136.37 |\n",
      "torch.Size([30, 20, 4003])\n",
      "torch.Size([30, 20, 4003])\n",
      "torch.Size([30, 20, 4003])\n",
      "torch.Size([30, 20, 4003])\n",
      "torch.Size([30, 20, 4003])\n",
      "torch.Size([30, 20, 4003])\n",
      "torch.Size([30, 20, 4003])\n",
      "torch.Size([30, 20, 4003])\n",
      "torch.Size([30, 20, 4003])\n",
      "torch.Size([30, 20, 4003])\n",
      "torch.Size([30, 20, 4003])\n",
      "torch.Size([30, 20, 4003])\n",
      "torch.Size([30, 20, 4003])\n",
      "torch.Size([30, 20, 4003])\n",
      "torch.Size([30, 20, 4003])\n",
      "torch.Size([30, 20, 4003])\n",
      "torch.Size([30, 20, 4003])\n",
      "torch.Size([30, 20, 4003])\n",
      "torch.Size([30, 20, 4003])\n",
      "torch.Size([30, 20, 4003])\n",
      "torch.Size([30, 20, 4003])\n",
      "torch.Size([30, 20, 4003])\n",
      "torch.Size([30, 20, 4003])\n",
      "torch.Size([30, 20, 4003])\n",
      "torch.Size([30, 20, 4003])\n",
      "torch.Size([30, 20, 4003])\n",
      "torch.Size([30, 20, 4003])\n",
      "torch.Size([30, 20, 4003])\n",
      "torch.Size([30, 20, 4003])\n",
      "torch.Size([30, 20, 4003])\n",
      "torch.Size([30, 20, 4003])\n",
      "torch.Size([30, 20, 4003])\n",
      "torch.Size([30, 20, 4003])\n",
      "torch.Size([30, 20, 4003])\n",
      "torch.Size([30, 20, 4003])\n",
      "torch.Size([30, 20, 4003])\n",
      "torch.Size([30, 20, 4003])\n",
      "torch.Size([30, 20, 4003])\n",
      "torch.Size([30, 20, 4003])\n",
      "torch.Size([30, 20, 4003])\n",
      "torch.Size([30, 20, 4003])\n",
      "torch.Size([30, 20, 4003])\n",
      "torch.Size([30, 20, 4003])\n",
      "torch.Size([30, 20, 4003])\n",
      "torch.Size([30, 20, 4003])\n",
      "torch.Size([30, 20, 4003])\n",
      "torch.Size([30, 20, 4003])\n",
      "torch.Size([30, 20, 4003])\n",
      "torch.Size([30, 20, 4003])\n",
      "torch.Size([30, 20, 4003])\n",
      "torch.Size([30, 20, 4003])\n",
      "torch.Size([30, 20, 4003])\n",
      "torch.Size([30, 20, 4003])\n",
      "torch.Size([30, 20, 4003])\n",
      "torch.Size([30, 20, 4003])\n",
      "torch.Size([30, 20, 4003])\n",
      "torch.Size([30, 20, 4003])\n",
      "torch.Size([30, 20, 4003])\n",
      "torch.Size([30, 20, 4003])\n",
      "torch.Size([30, 20, 4003])\n",
      "torch.Size([30, 20, 4003])\n",
      "torch.Size([30, 20, 4003])\n",
      "torch.Size([30, 20, 4003])\n",
      "torch.Size([30, 20, 4003])\n",
      "torch.Size([30, 20, 4003])\n",
      "torch.Size([30, 20, 4003])\n",
      "torch.Size([30, 20, 4003])\n",
      "torch.Size([30, 20, 4003])\n",
      "torch.Size([30, 20, 4003])\n",
      "torch.Size([30, 20, 4003])\n",
      "torch.Size([30, 20, 4003])\n",
      "torch.Size([30, 20, 4003])\n",
      "torch.Size([30, 20, 4003])\n",
      "torch.Size([30, 20, 4003])\n",
      "torch.Size([30, 20, 4003])\n",
      "torch.Size([30, 20, 4003])\n",
      "torch.Size([30, 20, 4003])\n",
      "torch.Size([30, 20, 4003])\n",
      "torch.Size([30, 20, 4003])\n",
      "torch.Size([30, 20, 4003])\n",
      "torch.Size([30, 20, 4003])\n",
      "torch.Size([30, 20, 4003])\n",
      "torch.Size([30, 20, 4003])\n",
      "torch.Size([30, 20, 4003])\n",
      "torch.Size([30, 20, 4003])\n",
      "torch.Size([30, 20, 4003])\n",
      "torch.Size([30, 20, 4003])\n",
      "torch.Size([30, 20, 4003])\n",
      "torch.Size([30, 20, 4003])\n",
      "torch.Size([30, 20, 4003])\n",
      "torch.Size([30, 20, 4003])\n",
      "torch.Size([30, 20, 4003])\n",
      "torch.Size([30, 20, 4003])\n",
      "torch.Size([30, 20, 4003])\n",
      "torch.Size([30, 20, 4003])\n",
      "torch.Size([30, 20, 4003])\n",
      "torch.Size([30, 20, 4003])\n",
      "torch.Size([30, 20, 4003])\n",
      "torch.Size([30, 20, 4003])\n",
      "torch.Size([30, 20, 4003])\n",
      "torch.Size([30, 20, 4003])\n"
     ]
    },
    {
     "ename": "KeyboardInterrupt",
     "evalue": "",
     "output_type": "error",
     "traceback": [
      "\u001b[1;31m---------------------------------------------------------------------------\u001b[0m",
      "\u001b[1;31mKeyboardInterrupt\u001b[0m                         Traceback (most recent call last)",
      "\u001b[1;32m<ipython-input-25-2c0d6a92c441>\u001b[0m in \u001b[0;36m<module>\u001b[1;34m()\u001b[0m\n\u001b[0;32m      1\u001b[0m \u001b[0mlr\u001b[0m \u001b[1;33m=\u001b[0m \u001b[0mconfig\u001b[0m\u001b[1;33m.\u001b[0m\u001b[0mlearning_rate\u001b[0m\u001b[1;33m\u001b[0m\u001b[0m\n\u001b[0;32m      2\u001b[0m \u001b[1;32mfor\u001b[0m \u001b[0mepoch\u001b[0m \u001b[1;32min\u001b[0m \u001b[0mrange\u001b[0m\u001b[1;33m(\u001b[0m\u001b[1;36m1\u001b[0m\u001b[1;33m,\u001b[0m \u001b[1;36m2\u001b[0m\u001b[1;33m)\u001b[0m\u001b[1;33m:\u001b[0m\u001b[1;33m\u001b[0m\u001b[0m\n\u001b[1;32m----> 3\u001b[1;33m     \u001b[0mtrain\u001b[0m\u001b[1;33m(\u001b[0m\u001b[1;33m)\u001b[0m\u001b[1;33m\u001b[0m\u001b[0m\n\u001b[0m\u001b[0;32m      4\u001b[0m     \u001b[0mlr\u001b[0m \u001b[1;33m/=\u001b[0m \u001b[1;36m4\u001b[0m\u001b[1;33m\u001b[0m\u001b[0m\n",
      "\u001b[1;32m<ipython-input-24-762c6c6730d0>\u001b[0m in \u001b[0;36mtrain\u001b[1;34m()\u001b[0m\n\u001b[0;32m      9\u001b[0m         \u001b[0mhidden\u001b[0m \u001b[1;33m=\u001b[0m \u001b[0mrepackage_hidden\u001b[0m\u001b[1;33m(\u001b[0m\u001b[0mhidden\u001b[0m\u001b[1;33m)\u001b[0m\u001b[1;33m\u001b[0m\u001b[0m\n\u001b[0;32m     10\u001b[0m         \u001b[0mmodel\u001b[0m\u001b[1;33m.\u001b[0m\u001b[0mzero_grad\u001b[0m\u001b[1;33m(\u001b[0m\u001b[1;33m)\u001b[0m\u001b[1;33m\u001b[0m\u001b[0m\n\u001b[1;32m---> 11\u001b[1;33m         \u001b[0moutput\u001b[0m\u001b[1;33m,\u001b[0m \u001b[0mhidden\u001b[0m \u001b[1;33m=\u001b[0m \u001b[0mmodel\u001b[0m\u001b[1;33m(\u001b[0m\u001b[0mdata\u001b[0m\u001b[1;33m,\u001b[0m \u001b[0mhidden\u001b[0m\u001b[1;33m)\u001b[0m\u001b[1;33m\u001b[0m\u001b[0m\n\u001b[0m\u001b[0;32m     12\u001b[0m         \u001b[0mprint\u001b[0m\u001b[1;33m(\u001b[0m\u001b[0moutput\u001b[0m\u001b[1;33m.\u001b[0m\u001b[0msize\u001b[0m\u001b[1;33m(\u001b[0m\u001b[1;33m)\u001b[0m\u001b[1;33m)\u001b[0m\u001b[1;33m\u001b[0m\u001b[0m\n\u001b[0;32m     13\u001b[0m         \u001b[0mloss\u001b[0m \u001b[1;33m=\u001b[0m \u001b[0mcriterion\u001b[0m\u001b[1;33m(\u001b[0m\u001b[0moutput\u001b[0m\u001b[1;33m.\u001b[0m\u001b[0mview\u001b[0m\u001b[1;33m(\u001b[0m\u001b[1;33m-\u001b[0m\u001b[1;36m1\u001b[0m\u001b[1;33m,\u001b[0m \u001b[0mconfig\u001b[0m\u001b[1;33m.\u001b[0m\u001b[0mvocab_size\u001b[0m\u001b[1;33m)\u001b[0m\u001b[1;33m,\u001b[0m \u001b[0mtargets\u001b[0m\u001b[1;33m)\u001b[0m\u001b[1;33m\u001b[0m\u001b[0m\n",
      "\u001b[1;32m~\\Anaconda3\\lib\\site-packages\\torch\\nn\\modules\\module.py\u001b[0m in \u001b[0;36m__call__\u001b[1;34m(self, *input, **kwargs)\u001b[0m\n\u001b[0;32m    323\u001b[0m         \u001b[1;32mfor\u001b[0m \u001b[0mhook\u001b[0m \u001b[1;32min\u001b[0m \u001b[0mself\u001b[0m\u001b[1;33m.\u001b[0m\u001b[0m_forward_pre_hooks\u001b[0m\u001b[1;33m.\u001b[0m\u001b[0mvalues\u001b[0m\u001b[1;33m(\u001b[0m\u001b[1;33m)\u001b[0m\u001b[1;33m:\u001b[0m\u001b[1;33m\u001b[0m\u001b[0m\n\u001b[0;32m    324\u001b[0m             \u001b[0mhook\u001b[0m\u001b[1;33m(\u001b[0m\u001b[0mself\u001b[0m\u001b[1;33m,\u001b[0m \u001b[0minput\u001b[0m\u001b[1;33m)\u001b[0m\u001b[1;33m\u001b[0m\u001b[0m\n\u001b[1;32m--> 325\u001b[1;33m         \u001b[0mresult\u001b[0m \u001b[1;33m=\u001b[0m \u001b[0mself\u001b[0m\u001b[1;33m.\u001b[0m\u001b[0mforward\u001b[0m\u001b[1;33m(\u001b[0m\u001b[1;33m*\u001b[0m\u001b[0minput\u001b[0m\u001b[1;33m,\u001b[0m \u001b[1;33m**\u001b[0m\u001b[0mkwargs\u001b[0m\u001b[1;33m)\u001b[0m\u001b[1;33m\u001b[0m\u001b[0m\n\u001b[0m\u001b[0;32m    326\u001b[0m         \u001b[1;32mfor\u001b[0m \u001b[0mhook\u001b[0m \u001b[1;32min\u001b[0m \u001b[0mself\u001b[0m\u001b[1;33m.\u001b[0m\u001b[0m_forward_hooks\u001b[0m\u001b[1;33m.\u001b[0m\u001b[0mvalues\u001b[0m\u001b[1;33m(\u001b[0m\u001b[1;33m)\u001b[0m\u001b[1;33m:\u001b[0m\u001b[1;33m\u001b[0m\u001b[0m\n\u001b[0;32m    327\u001b[0m             \u001b[0mhook_result\u001b[0m \u001b[1;33m=\u001b[0m \u001b[0mhook\u001b[0m\u001b[1;33m(\u001b[0m\u001b[0mself\u001b[0m\u001b[1;33m,\u001b[0m \u001b[0minput\u001b[0m\u001b[1;33m,\u001b[0m \u001b[0mresult\u001b[0m\u001b[1;33m)\u001b[0m\u001b[1;33m\u001b[0m\u001b[0m\n",
      "\u001b[1;32m<ipython-input-3-de7dd4d8a2b1>\u001b[0m in \u001b[0;36mforward\u001b[1;34m(self, inputs, hidden)\u001b[0m\n\u001b[0;32m     31\u001b[0m     \u001b[1;32mdef\u001b[0m \u001b[0mforward\u001b[0m\u001b[1;33m(\u001b[0m\u001b[0mself\u001b[0m\u001b[1;33m,\u001b[0m \u001b[0minputs\u001b[0m\u001b[1;33m,\u001b[0m \u001b[0mhidden\u001b[0m\u001b[1;33m)\u001b[0m\u001b[1;33m:\u001b[0m\u001b[1;33m\u001b[0m\u001b[0m\n\u001b[0;32m     32\u001b[0m         \u001b[0membedded\u001b[0m \u001b[1;33m=\u001b[0m \u001b[0mself\u001b[0m\u001b[1;33m.\u001b[0m\u001b[0mdrop\u001b[0m\u001b[1;33m(\u001b[0m\u001b[0mself\u001b[0m\u001b[1;33m.\u001b[0m\u001b[0mencoder\u001b[0m\u001b[1;33m(\u001b[0m\u001b[0minputs\u001b[0m\u001b[1;33m)\u001b[0m\u001b[1;33m)\u001b[0m\u001b[1;33m\u001b[0m\u001b[0m\n\u001b[1;32m---> 33\u001b[1;33m         \u001b[0moutput\u001b[0m\u001b[1;33m,\u001b[0m \u001b[0mhidden\u001b[0m \u001b[1;33m=\u001b[0m \u001b[0mself\u001b[0m\u001b[1;33m.\u001b[0m\u001b[0mrnn\u001b[0m\u001b[1;33m(\u001b[0m\u001b[0membedded\u001b[0m\u001b[1;33m,\u001b[0m \u001b[0mhidden\u001b[0m\u001b[1;33m)\u001b[0m\u001b[1;33m\u001b[0m\u001b[0m\n\u001b[0m\u001b[0;32m     34\u001b[0m         \u001b[0moutput\u001b[0m \u001b[1;33m=\u001b[0m \u001b[0mself\u001b[0m\u001b[1;33m.\u001b[0m\u001b[0mdrop\u001b[0m\u001b[1;33m(\u001b[0m\u001b[0moutput\u001b[0m\u001b[1;33m)\u001b[0m\u001b[1;33m\u001b[0m\u001b[0m\n\u001b[0;32m     35\u001b[0m         \u001b[0mdecoded\u001b[0m \u001b[1;33m=\u001b[0m \u001b[0mself\u001b[0m\u001b[1;33m.\u001b[0m\u001b[0mdecoder\u001b[0m\u001b[1;33m(\u001b[0m\u001b[0moutput\u001b[0m\u001b[1;33m.\u001b[0m\u001b[0mview\u001b[0m\u001b[1;33m(\u001b[0m\u001b[0moutput\u001b[0m\u001b[1;33m.\u001b[0m\u001b[0msize\u001b[0m\u001b[1;33m(\u001b[0m\u001b[1;36m0\u001b[0m\u001b[1;33m)\u001b[0m \u001b[1;33m*\u001b[0m \u001b[0moutput\u001b[0m\u001b[1;33m.\u001b[0m\u001b[0msize\u001b[0m\u001b[1;33m(\u001b[0m\u001b[1;36m1\u001b[0m\u001b[1;33m)\u001b[0m\u001b[1;33m,\u001b[0m \u001b[0moutput\u001b[0m\u001b[1;33m.\u001b[0m\u001b[0msize\u001b[0m\u001b[1;33m(\u001b[0m\u001b[1;36m2\u001b[0m\u001b[1;33m)\u001b[0m\u001b[1;33m)\u001b[0m\u001b[1;33m)\u001b[0m\u001b[1;33m\u001b[0m\u001b[0m\n",
      "\u001b[1;32m~\\Anaconda3\\lib\\site-packages\\torch\\nn\\modules\\module.py\u001b[0m in \u001b[0;36m__call__\u001b[1;34m(self, *input, **kwargs)\u001b[0m\n\u001b[0;32m    323\u001b[0m         \u001b[1;32mfor\u001b[0m \u001b[0mhook\u001b[0m \u001b[1;32min\u001b[0m \u001b[0mself\u001b[0m\u001b[1;33m.\u001b[0m\u001b[0m_forward_pre_hooks\u001b[0m\u001b[1;33m.\u001b[0m\u001b[0mvalues\u001b[0m\u001b[1;33m(\u001b[0m\u001b[1;33m)\u001b[0m\u001b[1;33m:\u001b[0m\u001b[1;33m\u001b[0m\u001b[0m\n\u001b[0;32m    324\u001b[0m             \u001b[0mhook\u001b[0m\u001b[1;33m(\u001b[0m\u001b[0mself\u001b[0m\u001b[1;33m,\u001b[0m \u001b[0minput\u001b[0m\u001b[1;33m)\u001b[0m\u001b[1;33m\u001b[0m\u001b[0m\n\u001b[1;32m--> 325\u001b[1;33m         \u001b[0mresult\u001b[0m \u001b[1;33m=\u001b[0m \u001b[0mself\u001b[0m\u001b[1;33m.\u001b[0m\u001b[0mforward\u001b[0m\u001b[1;33m(\u001b[0m\u001b[1;33m*\u001b[0m\u001b[0minput\u001b[0m\u001b[1;33m,\u001b[0m \u001b[1;33m**\u001b[0m\u001b[0mkwargs\u001b[0m\u001b[1;33m)\u001b[0m\u001b[1;33m\u001b[0m\u001b[0m\n\u001b[0m\u001b[0;32m    326\u001b[0m         \u001b[1;32mfor\u001b[0m \u001b[0mhook\u001b[0m \u001b[1;32min\u001b[0m \u001b[0mself\u001b[0m\u001b[1;33m.\u001b[0m\u001b[0m_forward_hooks\u001b[0m\u001b[1;33m.\u001b[0m\u001b[0mvalues\u001b[0m\u001b[1;33m(\u001b[0m\u001b[1;33m)\u001b[0m\u001b[1;33m:\u001b[0m\u001b[1;33m\u001b[0m\u001b[0m\n\u001b[0;32m    327\u001b[0m             \u001b[0mhook_result\u001b[0m \u001b[1;33m=\u001b[0m \u001b[0mhook\u001b[0m\u001b[1;33m(\u001b[0m\u001b[0mself\u001b[0m\u001b[1;33m,\u001b[0m \u001b[0minput\u001b[0m\u001b[1;33m,\u001b[0m \u001b[0mresult\u001b[0m\u001b[1;33m)\u001b[0m\u001b[1;33m\u001b[0m\u001b[0m\n",
      "\u001b[1;32m~\\Anaconda3\\lib\\site-packages\\torch\\nn\\modules\\rnn.py\u001b[0m in \u001b[0;36mforward\u001b[1;34m(self, input, hx)\u001b[0m\n\u001b[0;32m    167\u001b[0m             \u001b[0mflat_weight\u001b[0m\u001b[1;33m=\u001b[0m\u001b[0mflat_weight\u001b[0m\u001b[1;33m\u001b[0m\u001b[0m\n\u001b[0;32m    168\u001b[0m         )\n\u001b[1;32m--> 169\u001b[1;33m         \u001b[0moutput\u001b[0m\u001b[1;33m,\u001b[0m \u001b[0mhidden\u001b[0m \u001b[1;33m=\u001b[0m \u001b[0mfunc\u001b[0m\u001b[1;33m(\u001b[0m\u001b[0minput\u001b[0m\u001b[1;33m,\u001b[0m \u001b[0mself\u001b[0m\u001b[1;33m.\u001b[0m\u001b[0mall_weights\u001b[0m\u001b[1;33m,\u001b[0m \u001b[0mhx\u001b[0m\u001b[1;33m)\u001b[0m\u001b[1;33m\u001b[0m\u001b[0m\n\u001b[0m\u001b[0;32m    170\u001b[0m         \u001b[1;32mif\u001b[0m \u001b[0mis_packed\u001b[0m\u001b[1;33m:\u001b[0m\u001b[1;33m\u001b[0m\u001b[0m\n\u001b[0;32m    171\u001b[0m             \u001b[0moutput\u001b[0m \u001b[1;33m=\u001b[0m \u001b[0mPackedSequence\u001b[0m\u001b[1;33m(\u001b[0m\u001b[0moutput\u001b[0m\u001b[1;33m,\u001b[0m \u001b[0mbatch_sizes\u001b[0m\u001b[1;33m)\u001b[0m\u001b[1;33m\u001b[0m\u001b[0m\n",
      "\u001b[1;32m~\\Anaconda3\\lib\\site-packages\\torch\\nn\\_functions\\rnn.py\u001b[0m in \u001b[0;36mforward\u001b[1;34m(input, *fargs, **fkwargs)\u001b[0m\n\u001b[0;32m    383\u001b[0m             \u001b[1;32mreturn\u001b[0m \u001b[0mhack_onnx_rnn\u001b[0m\u001b[1;33m(\u001b[0m\u001b[1;33m(\u001b[0m\u001b[0minput\u001b[0m\u001b[1;33m,\u001b[0m\u001b[1;33m)\u001b[0m \u001b[1;33m+\u001b[0m \u001b[0mfargs\u001b[0m\u001b[1;33m,\u001b[0m \u001b[0moutput\u001b[0m\u001b[1;33m,\u001b[0m \u001b[0margs\u001b[0m\u001b[1;33m,\u001b[0m \u001b[0mkwargs\u001b[0m\u001b[1;33m)\u001b[0m\u001b[1;33m\u001b[0m\u001b[0m\n\u001b[0;32m    384\u001b[0m         \u001b[1;32melse\u001b[0m\u001b[1;33m:\u001b[0m\u001b[1;33m\u001b[0m\u001b[0m\n\u001b[1;32m--> 385\u001b[1;33m             \u001b[1;32mreturn\u001b[0m \u001b[0mfunc\u001b[0m\u001b[1;33m(\u001b[0m\u001b[0minput\u001b[0m\u001b[1;33m,\u001b[0m \u001b[1;33m*\u001b[0m\u001b[0mfargs\u001b[0m\u001b[1;33m,\u001b[0m \u001b[1;33m**\u001b[0m\u001b[0mfkwargs\u001b[0m\u001b[1;33m)\u001b[0m\u001b[1;33m\u001b[0m\u001b[0m\n\u001b[0m\u001b[0;32m    386\u001b[0m \u001b[1;33m\u001b[0m\u001b[0m\n\u001b[0;32m    387\u001b[0m     \u001b[1;32mreturn\u001b[0m \u001b[0mforward\u001b[0m\u001b[1;33m\u001b[0m\u001b[0m\n",
      "\u001b[1;32m~\\Anaconda3\\lib\\site-packages\\torch\\autograd\\function.py\u001b[0m in \u001b[0;36m_do_forward\u001b[1;34m(self, *input)\u001b[0m\n\u001b[0;32m    326\u001b[0m         \u001b[0mself\u001b[0m\u001b[1;33m.\u001b[0m\u001b[0m_nested_input\u001b[0m \u001b[1;33m=\u001b[0m \u001b[0minput\u001b[0m\u001b[1;33m\u001b[0m\u001b[0m\n\u001b[0;32m    327\u001b[0m         \u001b[0mflat_input\u001b[0m \u001b[1;33m=\u001b[0m \u001b[0mtuple\u001b[0m\u001b[1;33m(\u001b[0m\u001b[0m_iter_variables\u001b[0m\u001b[1;33m(\u001b[0m\u001b[0minput\u001b[0m\u001b[1;33m)\u001b[0m\u001b[1;33m)\u001b[0m\u001b[1;33m\u001b[0m\u001b[0m\n\u001b[1;32m--> 328\u001b[1;33m         \u001b[0mflat_output\u001b[0m \u001b[1;33m=\u001b[0m \u001b[0msuper\u001b[0m\u001b[1;33m(\u001b[0m\u001b[0mNestedIOFunction\u001b[0m\u001b[1;33m,\u001b[0m \u001b[0mself\u001b[0m\u001b[1;33m)\u001b[0m\u001b[1;33m.\u001b[0m\u001b[0m_do_forward\u001b[0m\u001b[1;33m(\u001b[0m\u001b[1;33m*\u001b[0m\u001b[0mflat_input\u001b[0m\u001b[1;33m)\u001b[0m\u001b[1;33m\u001b[0m\u001b[0m\n\u001b[0m\u001b[0;32m    329\u001b[0m         \u001b[0mnested_output\u001b[0m \u001b[1;33m=\u001b[0m \u001b[0mself\u001b[0m\u001b[1;33m.\u001b[0m\u001b[0m_nested_output\u001b[0m\u001b[1;33m\u001b[0m\u001b[0m\n\u001b[0;32m    330\u001b[0m         \u001b[0mnested_variables\u001b[0m \u001b[1;33m=\u001b[0m \u001b[0m_unflatten\u001b[0m\u001b[1;33m(\u001b[0m\u001b[0mflat_output\u001b[0m\u001b[1;33m,\u001b[0m \u001b[0mself\u001b[0m\u001b[1;33m.\u001b[0m\u001b[0m_nested_output\u001b[0m\u001b[1;33m)\u001b[0m\u001b[1;33m\u001b[0m\u001b[0m\n",
      "\u001b[1;32m~\\Anaconda3\\lib\\site-packages\\torch\\autograd\\function.py\u001b[0m in \u001b[0;36mforward\u001b[1;34m(self, *args)\u001b[0m\n\u001b[0;32m    348\u001b[0m     \u001b[1;32mdef\u001b[0m \u001b[0mforward\u001b[0m\u001b[1;33m(\u001b[0m\u001b[0mself\u001b[0m\u001b[1;33m,\u001b[0m \u001b[1;33m*\u001b[0m\u001b[0margs\u001b[0m\u001b[1;33m)\u001b[0m\u001b[1;33m:\u001b[0m\u001b[1;33m\u001b[0m\u001b[0m\n\u001b[0;32m    349\u001b[0m         \u001b[0mnested_tensors\u001b[0m \u001b[1;33m=\u001b[0m \u001b[0m_map_variable_tensor\u001b[0m\u001b[1;33m(\u001b[0m\u001b[0mself\u001b[0m\u001b[1;33m.\u001b[0m\u001b[0m_nested_input\u001b[0m\u001b[1;33m)\u001b[0m\u001b[1;33m\u001b[0m\u001b[0m\n\u001b[1;32m--> 350\u001b[1;33m         \u001b[0mresult\u001b[0m \u001b[1;33m=\u001b[0m \u001b[0mself\u001b[0m\u001b[1;33m.\u001b[0m\u001b[0mforward_extended\u001b[0m\u001b[1;33m(\u001b[0m\u001b[1;33m*\u001b[0m\u001b[0mnested_tensors\u001b[0m\u001b[1;33m)\u001b[0m\u001b[1;33m\u001b[0m\u001b[0m\n\u001b[0m\u001b[0;32m    351\u001b[0m         \u001b[1;32mdel\u001b[0m \u001b[0mself\u001b[0m\u001b[1;33m.\u001b[0m\u001b[0m_nested_input\u001b[0m\u001b[1;33m\u001b[0m\u001b[0m\n\u001b[0;32m    352\u001b[0m         \u001b[0mself\u001b[0m\u001b[1;33m.\u001b[0m\u001b[0m_nested_output\u001b[0m \u001b[1;33m=\u001b[0m \u001b[0mresult\u001b[0m\u001b[1;33m\u001b[0m\u001b[0m\n",
      "\u001b[1;32m~\\Anaconda3\\lib\\site-packages\\torch\\nn\\_functions\\rnn.py\u001b[0m in \u001b[0;36mforward_extended\u001b[1;34m(self, input, weight, hx)\u001b[0m\n\u001b[0;32m    292\u001b[0m             \u001b[0mhy\u001b[0m \u001b[1;33m=\u001b[0m \u001b[0mtuple\u001b[0m\u001b[1;33m(\u001b[0m\u001b[0mh\u001b[0m\u001b[1;33m.\u001b[0m\u001b[0mnew\u001b[0m\u001b[1;33m(\u001b[0m\u001b[1;33m)\u001b[0m \u001b[1;32mfor\u001b[0m \u001b[0mh\u001b[0m \u001b[1;32min\u001b[0m \u001b[0mhx\u001b[0m\u001b[1;33m)\u001b[0m\u001b[1;33m\u001b[0m\u001b[0m\n\u001b[0;32m    293\u001b[0m \u001b[1;33m\u001b[0m\u001b[0m\n\u001b[1;32m--> 294\u001b[1;33m         \u001b[0mcudnn\u001b[0m\u001b[1;33m.\u001b[0m\u001b[0mrnn\u001b[0m\u001b[1;33m.\u001b[0m\u001b[0mforward\u001b[0m\u001b[1;33m(\u001b[0m\u001b[0mself\u001b[0m\u001b[1;33m,\u001b[0m \u001b[0minput\u001b[0m\u001b[1;33m,\u001b[0m \u001b[0mhx\u001b[0m\u001b[1;33m,\u001b[0m \u001b[0mweight\u001b[0m\u001b[1;33m,\u001b[0m \u001b[0moutput\u001b[0m\u001b[1;33m,\u001b[0m \u001b[0mhy\u001b[0m\u001b[1;33m)\u001b[0m\u001b[1;33m\u001b[0m\u001b[0m\n\u001b[0m\u001b[0;32m    295\u001b[0m \u001b[1;33m\u001b[0m\u001b[0m\n\u001b[0;32m    296\u001b[0m         \u001b[0mself\u001b[0m\u001b[1;33m.\u001b[0m\u001b[0msave_for_backward\u001b[0m\u001b[1;33m(\u001b[0m\u001b[0minput\u001b[0m\u001b[1;33m,\u001b[0m \u001b[0mhx\u001b[0m\u001b[1;33m,\u001b[0m \u001b[0mweight\u001b[0m\u001b[1;33m,\u001b[0m \u001b[0moutput\u001b[0m\u001b[1;33m)\u001b[0m\u001b[1;33m\u001b[0m\u001b[0m\n",
      "\u001b[1;32m~\\Anaconda3\\lib\\site-packages\\torch\\backends\\cudnn\\rnn.py\u001b[0m in \u001b[0;36mforward\u001b[1;34m(fn, input, hx, weight, output, hy)\u001b[0m\n\u001b[0;32m    303\u001b[0m                 \u001b[0mfn\u001b[0m\u001b[1;33m.\u001b[0m\u001b[0mcy_desc\u001b[0m\u001b[1;33m,\u001b[0m \u001b[0mctypes\u001b[0m\u001b[1;33m.\u001b[0m\u001b[0mc_void_p\u001b[0m\u001b[1;33m(\u001b[0m\u001b[0mcy\u001b[0m\u001b[1;33m.\u001b[0m\u001b[0mdata_ptr\u001b[0m\u001b[1;33m(\u001b[0m\u001b[1;33m)\u001b[0m\u001b[1;33m)\u001b[0m \u001b[1;32mif\u001b[0m \u001b[0mcx\u001b[0m \u001b[1;32mis\u001b[0m \u001b[1;32mnot\u001b[0m \u001b[1;32mNone\u001b[0m \u001b[1;32melse\u001b[0m \u001b[1;32mNone\u001b[0m\u001b[1;33m,\u001b[0m\u001b[1;33m\u001b[0m\u001b[0m\n\u001b[0;32m    304\u001b[0m                 \u001b[0mctypes\u001b[0m\u001b[1;33m.\u001b[0m\u001b[0mc_void_p\u001b[0m\u001b[1;33m(\u001b[0m\u001b[0mworkspace\u001b[0m\u001b[1;33m.\u001b[0m\u001b[0mdata_ptr\u001b[0m\u001b[1;33m(\u001b[0m\u001b[1;33m)\u001b[0m\u001b[1;33m)\u001b[0m\u001b[1;33m,\u001b[0m \u001b[0mworkspace\u001b[0m\u001b[1;33m.\u001b[0m\u001b[0msize\u001b[0m\u001b[1;33m(\u001b[0m\u001b[1;36m0\u001b[0m\u001b[1;33m)\u001b[0m\u001b[1;33m,\u001b[0m\u001b[1;33m\u001b[0m\u001b[0m\n\u001b[1;32m--> 305\u001b[1;33m                 \u001b[0mctypes\u001b[0m\u001b[1;33m.\u001b[0m\u001b[0mc_void_p\u001b[0m\u001b[1;33m(\u001b[0m\u001b[0mfn\u001b[0m\u001b[1;33m.\u001b[0m\u001b[0mreserve\u001b[0m\u001b[1;33m.\u001b[0m\u001b[0mdata_ptr\u001b[0m\u001b[1;33m(\u001b[0m\u001b[1;33m)\u001b[0m\u001b[1;33m)\u001b[0m\u001b[1;33m,\u001b[0m \u001b[0mfn\u001b[0m\u001b[1;33m.\u001b[0m\u001b[0mreserve\u001b[0m\u001b[1;33m.\u001b[0m\u001b[0msize\u001b[0m\u001b[1;33m(\u001b[0m\u001b[1;36m0\u001b[0m\u001b[1;33m)\u001b[0m\u001b[1;33m\u001b[0m\u001b[0m\n\u001b[0m\u001b[0;32m    306\u001b[0m             ))\n\u001b[0;32m    307\u001b[0m         \u001b[1;32melse\u001b[0m\u001b[1;33m:\u001b[0m  \u001b[1;31m# inference\u001b[0m\u001b[1;33m\u001b[0m\u001b[0m\n",
      "\u001b[1;31mKeyboardInterrupt\u001b[0m: "
     ]
    }
   ],
   "source": [
    "lr = config.learning_rate\n",
    "for epoch in range(1, 2):\n",
    "    train()\n",
    "    lr /= 4"
   ]
  },
  {
   "cell_type": "code",
   "execution_count": 21,
   "metadata": {},
   "outputs": [
    {
     "name": "stdout",
     "output_type": "stream",
     "text": [
      "Variable containing:\n",
      " 2597\n",
      "[torch.cuda.LongTensor of size 1x1 (GPU 0)]\n",
      "\n"
     ]
    }
   ],
   "source": [
    "inputs = Variable(torch.rand(1, 1).mul(config.vocab_size).long(), volatile=True)\n",
    "if use_cuda:\n",
    "    inputs.data = inputs.data.cuda()\n",
    "hidden = model.init_hidden(1)\n",
    "word_list = []\n",
    "print(inputs)"
   ]
  },
  {
   "cell_type": "code",
   "execution_count": 22,
   "metadata": {
    "collapsed": true
   },
   "outputs": [],
   "source": [
    "output, hidden = model(inputs, hidden)"
   ]
  },
  {
   "cell_type": "code",
   "execution_count": 23,
   "metadata": {},
   "outputs": [
    {
     "data": {
      "text/plain": [
       "Variable containing:\n",
       "( 0  ,.,.) = \n",
       "  0.5929  2.5934  1.7377  ...  -0.9791 -0.7825 -0.7456\n",
       "[torch.cuda.FloatTensor of size 1x1x4003 (GPU 0)]"
      ]
     },
     "execution_count": 23,
     "metadata": {},
     "output_type": "execute_result"
    }
   ],
   "source": [
    "output"
   ]
  },
  {
   "cell_type": "code",
   "execution_count": null,
   "metadata": {
    "collapsed": true
   },
   "outputs": [],
   "source": []
  }
 ],
 "metadata": {
  "kernelspec": {
   "display_name": "Python 3",
   "language": "python",
   "name": "python3"
  },
  "language_info": {
   "codemirror_mode": {
    "name": "ipython",
    "version": 3
   },
   "file_extension": ".py",
   "mimetype": "text/x-python",
   "name": "python",
   "nbconvert_exporter": "python",
   "pygments_lexer": "ipython3",
   "version": "3.6.3"
  }
 },
 "nbformat": 4,
 "nbformat_minor": 2
}

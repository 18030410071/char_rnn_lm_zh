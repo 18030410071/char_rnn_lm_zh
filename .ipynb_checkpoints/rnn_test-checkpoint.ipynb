{
 "cells": [
  {
   "cell_type": "code",
   "execution_count": 1,
   "metadata": {
    "collapsed": true
   },
   "outputs": [],
   "source": [
    "import torch\n",
    "import torch.nn as nn\n",
    "from torch.autograd import Variable"
   ]
  },
  {
   "cell_type": "code",
   "execution_count": 2,
   "metadata": {},
   "outputs": [
    {
     "name": "stdout",
     "output_type": "stream",
     "text": [
      "Input size: torch.Size([2, 5])\n",
      "Output size: torch.Size([2, 5, 64])\n"
     ]
    }
   ],
   "source": [
    "vocab_size = 5000     # 词汇表大小\n",
    "embedding_size = 64   # 词向量维度\n",
    "embedding = nn.Embedding(vocab_size, embedding_size)\n",
    "\n",
    "data = [[1, 2, 4, 6, 3],  [4, 6, 7, 3, 2]]\n",
    "inputs = Variable(torch.LongTensor(data))  # 输入\n",
    "print('Input size:', inputs.size())\n",
    "\n",
    "embedding_output = embedding(inputs)    \n",
    "print('Output size:', embedding_output.size())"
   ]
  },
  {
   "cell_type": "code",
   "execution_count": 9,
   "metadata": {},
   "outputs": [
    {
     "name": "stdout",
     "output_type": "stream",
     "text": [
      "RNN output size: torch.Size([5, 2, 128])\n"
     ]
    }
   ],
   "source": [
    "hidden_size = 128   # RNN隐藏层维度\n",
    "seq_len = 5         # 序列长度\n",
    "batch_size = 2 \n",
    "\n",
    "rnn = nn.RNN(embedding_size, hidden_size)      # 单层RNN\n",
    "rnn_inputs = embedding_output.transpose(0, 1)  # 前2个维度转置，变为 (seq_len, batch, embedding_size)\n",
    "hidden = Variable(torch.randn(1, batch_size, hidden_size))      # 初始化hidden\n",
    "rnn_outputs, hidden = rnn(rnn_inputs, hidden)   # 输出为 (seq_len, batch, hidden_size)\n",
    "print('RNN output size:', rnn_outputs.size())"
   ]
  },
  {
   "cell_type": "code",
   "execution_count": 15,
   "metadata": {
    "collapsed": true
   },
   "outputs": [],
   "source": [
    "class RNNModel(nn.Module):\n",
    "    def __init__(self, vocab_size, embedding_size, hidden_size):\n",
    "        super(RNNModel, self).__init__()\n",
    "        \n",
    "        self.embedding = nn.Embedding(vocab_size, embedding_size)\n",
    "        self.rnn = nn.RNN(embedding_size, hidden_size)\n",
    "        \n",
    "    def forward(self, x, hidden):\n",
    "        x = self.embedding(x)     # 词嵌入, (batch, seq_len, embedding_size)\n",
    "        x = x.transpose(0, 1)      # 转置, (seq_len, batch, embedding_size)\n",
    "        output, hidden = self.rnn(x, hidden)   # rnn计算\n",
    "        return output, hidden\n",
    "    \n",
    "    def init_hidden(self, batch_size, hidden_size):   # 初始化隐藏层\n",
    "        return Variable(torch.zeros(1, batch_size, hidden_size))"
   ]
  },
  {
   "cell_type": "code",
   "execution_count": 16,
   "metadata": {
    "collapsed": true
   },
   "outputs": [],
   "source": [
    "rnn = RNNModel(vocab_size, embedding_size, hidden_size)"
   ]
  },
  {
   "cell_type": "code",
   "execution_count": 23,
   "metadata": {},
   "outputs": [
    {
     "name": "stdout",
     "output_type": "stream",
     "text": [
      "RNN output size: torch.Size([5, 2, 128])\n"
     ]
    }
   ],
   "source": [
    "rnn = RNNModel(vocab_size, embedding_size, hidden_size)\n",
    "\n",
    "data = [[1, 2, 4, 6, 3],  [4, 6, 7, 3, 2]]\n",
    "inputs = Variable(torch.LongTensor(data))   # # 维度为 (batch, seq_len)\n",
    "hidden = rnn.init_hidden(batch_size, hidden_size)\n",
    "rnn_outputs, hidden = rnn(inputs, hidden)  # 输出为 (seq_len, batch, hidden_size)\n",
    "print('RNN output size:', rnn_outputs.size())"
   ]
  },
  {
   "cell_type": "code",
   "execution_count": null,
   "metadata": {
    "collapsed": true
   },
   "outputs": [],
   "source": []
  },
  {
   "cell_type": "code",
   "execution_count": null,
   "metadata": {
    "collapsed": true
   },
   "outputs": [],
   "source": []
  },
  {
   "cell_type": "code",
   "execution_count": null,
   "metadata": {
    "collapsed": true
   },
   "outputs": [],
   "source": []
  },
  {
   "cell_type": "code",
   "execution_count": null,
   "metadata": {},
   "outputs": [],
   "source": [
    "embedding_output = embedding(inputs)\n",
    "embedding_output.size()"
   ]
  },
  {
   "cell_type": "code",
   "execution_count": null,
   "metadata": {},
   "outputs": [],
   "source": [
    "inputs_res = inputs.transpose(0, 1)"
   ]
  },
  {
   "cell_type": "code",
   "execution_count": null,
   "metadata": {},
   "outputs": [],
   "source": [
    "inputs_res"
   ]
  },
  {
   "cell_type": "code",
   "execution_count": null,
   "metadata": {
    "collapsed": true
   },
   "outputs": [],
   "source": [
    "out_res = embedding(inputs_res)"
   ]
  },
  {
   "cell_type": "code",
   "execution_count": null,
   "metadata": {},
   "outputs": [],
   "source": [
    "embedding.weight"
   ]
  },
  {
   "cell_type": "code",
   "execution_count": null,
   "metadata": {},
   "outputs": [],
   "source": [
    "out_res"
   ]
  },
  {
   "cell_type": "code",
   "execution_count": null,
   "metadata": {},
   "outputs": [],
   "source": [
    "embedding_output"
   ]
  },
  {
   "cell_type": "code",
   "execution_count": null,
   "metadata": {},
   "outputs": [],
   "source": [
    "out_res[:, 0]"
   ]
  },
  {
   "cell_type": "code",
   "execution_count": 30,
   "metadata": {},
   "outputs": [
    {
     "name": "stdout",
     "output_type": "stream",
     "text": [
      "Variable containing:\n",
      " 1  4\n",
      " 2  6\n",
      " 4  7\n",
      " 6  3\n",
      " 3  2\n",
      "[torch.LongTensor of size 5x2]\n",
      "\n"
     ]
    }
   ],
   "source": [
    "data = [[1, 2, 4, 6, 3],  [4, 6, 7, 3, 2]]\n",
    "data_t = torch.LongTensor(data).transpose(0, 1)  # 在网络之外就转置完毕\n",
    "inputs = Variable(data_t)   # 输入，(seq_len, batch)\n",
    "print(inputs)"
   ]
  },
  {
   "cell_type": "code",
   "execution_count": 31,
   "metadata": {
    "collapsed": true
   },
   "outputs": [],
   "source": [
    "class RNNModel(nn.Module):\n",
    "    def __init__(self, vocab_size, embedding_size, hidden_size):\n",
    "        super(RNNModel, self).__init__()\n",
    "        \n",
    "        self.embedding = nn.Embedding(vocab_size, embedding_size)\n",
    "        self.rnn = nn.RNN(embedding_size, hidden_size)\n",
    "        \n",
    "    def forward(self, x, hidden):\n",
    "        x = self.embedding(x)     # 词嵌入, (seq_len, batch, embedding_size)\n",
    "        output, hidden = self.rnn(x, hidden)   # rnn计算\n",
    "        return output, hidden\n",
    "    \n",
    "    def init_hidden(self, batch_size, hidden_size):   # 初始化隐藏层\n",
    "        return Variable(torch.zeros(1, batch_size, hidden_size))"
   ]
  },
  {
   "cell_type": "code",
   "execution_count": 32,
   "metadata": {},
   "outputs": [
    {
     "name": "stdout",
     "output_type": "stream",
     "text": [
      "RNN output size: torch.Size([5, 2, 128])\n"
     ]
    }
   ],
   "source": [
    "rnn = RNNModel(vocab_size, embedding_size, hidden_size)\n",
    "\n",
    "hidden = rnn.init_hidden(batch_size, hidden_size)\n",
    "rnn_outputs, hidden = rnn(inputs, hidden)  # 输出为 (seq_len, batch, hidden_size)\n",
    "print('RNN output size:', rnn_outputs.size())"
   ]
  },
  {
   "cell_type": "code",
   "execution_count": null,
   "metadata": {
    "collapsed": true
   },
   "outputs": [],
   "source": []
  }
 ],
 "metadata": {
  "kernelspec": {
   "display_name": "tensorflow",
   "language": "python",
   "name": "tensorflow"
  },
  "language_info": {
   "codemirror_mode": {
    "name": "ipython",
    "version": 3
   },
   "file_extension": ".py",
   "mimetype": "text/x-python",
   "name": "python",
   "nbconvert_exporter": "python",
   "pygments_lexer": "ipython3",
   "version": "3.5.3"
  }
 },
 "nbformat": 4,
 "nbformat_minor": 2
}

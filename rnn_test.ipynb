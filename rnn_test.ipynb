{
 "cells": [
  {
   "cell_type": "code",
   "execution_count": 1,
   "metadata": {
    "collapsed": true
   },
   "outputs": [],
   "source": [
    "import torch\n",
    "import torch.nn as nn\n",
    "from torch.autograd import Variable"
   ]
  },
  {
   "cell_type": "code",
   "execution_count": 2,
   "metadata": {},
   "outputs": [
    {
     "name": "stdout",
     "output_type": "stream",
     "text": [
      "Input size: torch.Size([2, 5])\n",
      "Output size: torch.Size([2, 5, 64])\n"
     ]
    }
   ],
   "source": [
    "vocab_size = 5000     # 词汇表大小\n",
    "embedding_size = 64   # 词向量维度\n",
    "embedding = nn.Embedding(vocab_size, embedding_size)\n",
    "\n",
    "data = [[1, 2, 4, 6, 3],  [4, 6, 7, 3, 2]]\n",
    "inputs = Variable(torch.LongTensor(data))  # 输入\n",
    "print('Input size:', inputs.size())\n",
    "\n",
    "embedding_output = embedding(inputs)    \n",
    "print('Output size:', embedding_output.size())"
   ]
  },
  {
   "cell_type": "code",
   "execution_count": 9,
   "metadata": {},
   "outputs": [
    {
     "name": "stdout",
     "output_type": "stream",
     "text": [
      "RNN output size: torch.Size([5, 2, 128])\n"
     ]
    }
   ],
   "source": [
    "hidden_size = 128   # RNN隐藏层维度\n",
    "seq_len = 5         # 序列长度\n",
    "batch_size = 2 \n",
    "\n",
    "rnn = nn.RNN(embedding_size, hidden_size)      # 单层RNN\n",
    "rnn_inputs = embedding_output.transpose(0, 1)  # 前2个维度转置，变为 (seq_len, batch, embedding_size)\n",
    "hidden = Variable(torch.randn(1, batch_size, hidden_size))      # 初始化hidden\n",
    "rnn_outputs, hidden = rnn(rnn_inputs, hidden)   # 输出为 (seq_len, batch, hidden_size)\n",
    "print('RNN output size:', rnn_outputs.size())"
   ]
  },
  {
   "cell_type": "code",
   "execution_count": 15,
   "metadata": {
    "collapsed": true
   },
   "outputs": [],
   "source": [
    "class RNNModel(nn.Module):\n",
    "    def __init__(self, vocab_size, embedding_size, hidden_size):\n",
    "        super(RNNModel, self).__init__()\n",
    "        \n",
    "        self.embedding = nn.Embedding(vocab_size, embedding_size)\n",
    "        self.rnn = nn.RNN(embedding_size, hidden_size)\n",
    "        \n",
    "    def forward(self, x, hidden):\n",
    "        x = self.embedding(x)     # 词嵌入, (batch, seq_len, embedding_size)\n",
    "        x = x.transpose(0, 1)      # 转置, (seq_len, batch, embedding_size)\n",
    "        output, hidden = self.rnn(x, hidden)   # rnn计算\n",
    "        return output, hidden\n",
    "    \n",
    "    def init_hidden(self, batch_size, hidden_size):   # 初始化隐藏层\n",
    "        return Variable(torch.zeros(1, batch_size, hidden_size))"
   ]
  },
  {
   "cell_type": "code",
   "execution_count": 16,
   "metadata": {
    "collapsed": true
   },
   "outputs": [],
   "source": [
    "rnn = RNNModel(vocab_size, embedding_size, hidden_size)"
   ]
  },
  {
   "cell_type": "code",
   "execution_count": 23,
   "metadata": {},
   "outputs": [
    {
     "name": "stdout",
     "output_type": "stream",
     "text": [
      "RNN output size: torch.Size([5, 2, 128])\n"
     ]
    }
   ],
   "source": [
    "rnn = RNNModel(vocab_size, embedding_size, hidden_size)\n",
    "\n",
    "data = [[1, 2, 4, 6, 3],  [4, 6, 7, 3, 2]]\n",
    "inputs = Variable(torch.LongTensor(data))   # # 维度为 (batch, seq_len)\n",
    "hidden = rnn.init_hidden(batch_size, hidden_size)\n",
    "rnn_outputs, hidden = rnn(inputs, hidden)  # 输出为 (seq_len, batch, hidden_size)\n",
    "print('RNN output size:', rnn_outputs.size())"
   ]
  },
  {
   "cell_type": "code",
   "execution_count": null,
   "metadata": {
    "collapsed": true
   },
   "outputs": [],
   "source": []
  },
  {
   "cell_type": "code",
   "execution_count": null,
   "metadata": {
    "collapsed": true
   },
   "outputs": [],
   "source": []
  },
  {
   "cell_type": "code",
   "execution_count": null,
   "metadata": {
    "collapsed": true
   },
   "outputs": [],
   "source": []
  },
  {
   "cell_type": "code",
   "execution_count": null,
   "metadata": {
    "collapsed": true
   },
   "outputs": [],
   "source": [
    "embedding_output = embedding(inputs)\n",
    "embedding_output.size()"
   ]
  },
  {
   "cell_type": "code",
   "execution_count": null,
   "metadata": {
    "collapsed": true
   },
   "outputs": [],
   "source": [
    "inputs_res = inputs.transpose(0, 1)"
   ]
  },
  {
   "cell_type": "code",
   "execution_count": null,
   "metadata": {
    "collapsed": true
   },
   "outputs": [],
   "source": [
    "inputs_res"
   ]
  },
  {
   "cell_type": "code",
   "execution_count": null,
   "metadata": {
    "collapsed": true
   },
   "outputs": [],
   "source": [
    "out_res = embedding(inputs_res)"
   ]
  },
  {
   "cell_type": "code",
   "execution_count": null,
   "metadata": {
    "collapsed": true
   },
   "outputs": [],
   "source": [
    "embedding.weight"
   ]
  },
  {
   "cell_type": "code",
   "execution_count": null,
   "metadata": {
    "collapsed": true
   },
   "outputs": [],
   "source": [
    "out_res"
   ]
  },
  {
   "cell_type": "code",
   "execution_count": null,
   "metadata": {
    "collapsed": true
   },
   "outputs": [],
   "source": [
    "embedding_output"
   ]
  },
  {
   "cell_type": "code",
   "execution_count": null,
   "metadata": {
    "collapsed": true
   },
   "outputs": [],
   "source": [
    "out_res[:, 0]"
   ]
  },
  {
   "cell_type": "code",
   "execution_count": 30,
   "metadata": {},
   "outputs": [
    {
     "name": "stdout",
     "output_type": "stream",
     "text": [
      "Variable containing:\n",
      " 1  4\n",
      " 2  6\n",
      " 4  7\n",
      " 6  3\n",
      " 3  2\n",
      "[torch.LongTensor of size 5x2]\n",
      "\n"
     ]
    }
   ],
   "source": [
    "data = [[1, 2, 4, 6, 3],  [4, 6, 7, 3, 2]]\n",
    "data_t = torch.LongTensor(data).transpose(0, 1)  # 在网络之外就转置完毕\n",
    "inputs = Variable(data_t)   # 输入，(seq_len, batch)\n",
    "print(inputs)"
   ]
  },
  {
   "cell_type": "code",
   "execution_count": 31,
   "metadata": {
    "collapsed": true
   },
   "outputs": [],
   "source": [
    "class RNNModel(nn.Module):\n",
    "    def __init__(self, vocab_size, embedding_size, hidden_size):\n",
    "        super(RNNModel, self).__init__()\n",
    "        \n",
    "        self.embedding = nn.Embedding(vocab_size, embedding_size)\n",
    "        self.rnn = nn.RNN(embedding_size, hidden_size)\n",
    "        \n",
    "    def forward(self, x, hidden):\n",
    "        x = self.embedding(x)     # 词嵌入, (seq_len, batch, embedding_size)\n",
    "        output, hidden = self.rnn(x, hidden)   # rnn计算\n",
    "        return output, hidden\n",
    "    \n",
    "    def init_hidden(self, batch_size, hidden_size):   # 初始化隐藏层\n",
    "        return Variable(torch.zeros(1, batch_size, hidden_size))"
   ]
  },
  {
   "cell_type": "code",
   "execution_count": 32,
   "metadata": {},
   "outputs": [
    {
     "name": "stdout",
     "output_type": "stream",
     "text": [
      "RNN output size: torch.Size([5, 2, 128])\n"
     ]
    }
   ],
   "source": [
    "rnn = RNNModel(vocab_size, embedding_size, hidden_size)\n",
    "\n",
    "hidden = rnn.init_hidden(batch_size, hidden_size)\n",
    "rnn_outputs, hidden = rnn(inputs, hidden)  # 输出为 (seq_len, batch, hidden_size)\n",
    "print('RNN output size:', rnn_outputs.size())"
   ]
  },
  {
   "cell_type": "code",
   "execution_count": 34,
   "metadata": {
    "collapsed": true
   },
   "outputs": [],
   "source": [
    "import numpy as np"
   ]
  },
  {
   "cell_type": "code",
   "execution_count": 35,
   "metadata": {},
   "outputs": [
    {
     "data": {
      "text/plain": [
       "array([ 0,  1,  2,  3,  4,  5,  6,  7,  8,  9, 10, 11, 12, 13, 14, 15, 16,\n",
       "       17, 18, 19, 20, 21, 22, 23, 24, 25, 26, 27, 28, 29, 30, 31, 32, 33,\n",
       "       34, 35, 36, 37, 38, 39, 40, 41, 42, 43, 44, 45, 46, 47, 48, 49, 50,\n",
       "       51, 52, 53, 54, 55, 56, 57, 58, 59])"
      ]
     },
     "execution_count": 35,
     "metadata": {},
     "output_type": "execute_result"
    }
   ],
   "source": [
    "data = np.arange(60)\n",
    "data"
   ]
  },
  {
   "cell_type": "code",
   "execution_count": 41,
   "metadata": {},
   "outputs": [
    {
     "data": {
      "text/plain": [
       "array([[[ 0,  1,  2,  3,  4],\n",
       "        [ 5,  6,  7,  8,  9],\n",
       "        [10, 11, 12, 13, 14],\n",
       "        [15, 16, 17, 18, 19]],\n",
       "\n",
       "       [[20, 21, 22, 23, 24],\n",
       "        [25, 26, 27, 28, 29],\n",
       "        [30, 31, 32, 33, 34],\n",
       "        [35, 36, 37, 38, 39]],\n",
       "\n",
       "       [[40, 41, 42, 43, 44],\n",
       "        [45, 46, 47, 48, 49],\n",
       "        [50, 51, 52, 53, 54],\n",
       "        [55, 56, 57, 58, 59]]])"
      ]
     },
     "execution_count": 41,
     "metadata": {},
     "output_type": "execute_result"
    }
   ],
   "source": [
    "batch_size = 4\n",
    "seq_len = 5\n",
    "num_batch = len(data) // batch_size // seq_len\n",
    "data.reshape(num_batch, batch_size, -1)"
   ]
  },
  {
   "cell_type": "code",
   "execution_count": 54,
   "metadata": {},
   "outputs": [
    {
     "data": {
      "text/plain": [
       "array([[[ 0,  5, 10, 15],\n",
       "        [ 1,  6, 11, 16],\n",
       "        [ 2,  7, 12, 17],\n",
       "        [ 3,  8, 13, 18],\n",
       "        [ 4,  9, 14, 19]],\n",
       "\n",
       "       [[20, 25, 30, 35],\n",
       "        [21, 26, 31, 36],\n",
       "        [22, 27, 32, 37],\n",
       "        [23, 28, 33, 38],\n",
       "        [24, 29, 34, 39]],\n",
       "\n",
       "       [[40, 45, 50, 55],\n",
       "        [41, 46, 51, 56],\n",
       "        [42, 47, 52, 57],\n",
       "        [43, 48, 53, 58],\n",
       "        [44, 49, 54, 59]]])"
      ]
     },
     "execution_count": 54,
     "metadata": {},
     "output_type": "execute_result"
    }
   ],
   "source": [
    "data.reshape(num_batch, batch_size, -1).swapaxes(1, 2)"
   ]
  },
  {
   "cell_type": "code",
   "execution_count": 42,
   "metadata": {},
   "outputs": [
    {
     "data": {
      "text/plain": [
       "array([ 1,  2,  3,  4,  5,  6,  7,  8,  9, 10, 11, 12, 13, 14, 15, 16, 17,\n",
       "       18, 19, 20, 21, 22, 23, 24, 25, 26, 27, 28, 29, 30, 31, 32, 33, 34,\n",
       "       35, 36, 37, 38, 39, 40, 41, 42, 43, 44, 45, 46, 47, 48, 49, 50, 51,\n",
       "       52, 53, 54, 55, 56, 57, 58, 59, 60])"
      ]
     },
     "execution_count": 42,
     "metadata": {},
     "output_type": "execute_result"
    }
   ],
   "source": [
    "target = np.arange(1, 61)\n",
    "target"
   ]
  },
  {
   "cell_type": "code",
   "execution_count": 43,
   "metadata": {},
   "outputs": [
    {
     "data": {
      "text/plain": [
       "array([[[ 1,  2,  3,  4,  5],\n",
       "        [ 6,  7,  8,  9, 10],\n",
       "        [11, 12, 13, 14, 15],\n",
       "        [16, 17, 18, 19, 20]],\n",
       "\n",
       "       [[21, 22, 23, 24, 25],\n",
       "        [26, 27, 28, 29, 30],\n",
       "        [31, 32, 33, 34, 35],\n",
       "        [36, 37, 38, 39, 40]],\n",
       "\n",
       "       [[41, 42, 43, 44, 45],\n",
       "        [46, 47, 48, 49, 50],\n",
       "        [51, 52, 53, 54, 55],\n",
       "        [56, 57, 58, 59, 60]]])"
      ]
     },
     "execution_count": 43,
     "metadata": {},
     "output_type": "execute_result"
    }
   ],
   "source": [
    "batch_size = 4\n",
    "seq_len = 5\n",
    "num_batch = len(target) // batch_size // seq_len\n",
    "target.reshape(num_batch, batch_size, -1)"
   ]
  },
  {
   "cell_type": "code",
   "execution_count": 64,
   "metadata": {},
   "outputs": [
    {
     "data": {
      "text/plain": [
       "array([[[ 1,  6, 11, 16],\n",
       "        [ 2,  7, 12, 17],\n",
       "        [ 3,  8, 13, 18],\n",
       "        [ 4,  9, 14, 19],\n",
       "        [ 5, 10, 15, 20]],\n",
       "\n",
       "       [[21, 26, 31, 36],\n",
       "        [22, 27, 32, 37],\n",
       "        [23, 28, 33, 38],\n",
       "        [24, 29, 34, 39],\n",
       "        [25, 30, 35, 40]],\n",
       "\n",
       "       [[41, 46, 51, 56],\n",
       "        [42, 47, 52, 57],\n",
       "        [43, 48, 53, 58],\n",
       "        [44, 49, 54, 59],\n",
       "        [45, 50, 55, 60]]])"
      ]
     },
     "execution_count": 64,
     "metadata": {},
     "output_type": "execute_result"
    }
   ],
   "source": [
    "target.reshape(num_batch, batch_size, -1).swapaxes(1, 2)"
   ]
  },
  {
   "cell_type": "code",
   "execution_count": 66,
   "metadata": {},
   "outputs": [
    {
     "data": {
      "text/plain": [
       "array([[ 1,  6, 11, 16,  2,  7, 12, 17,  3,  8, 13, 18,  4,  9, 14, 19,  5,\n",
       "        10, 15, 20],\n",
       "       [21, 26, 31, 36, 22, 27, 32, 37, 23, 28, 33, 38, 24, 29, 34, 39, 25,\n",
       "        30, 35, 40],\n",
       "       [41, 46, 51, 56, 42, 47, 52, 57, 43, 48, 53, 58, 44, 49, 54, 59, 45,\n",
       "        50, 55, 60]])"
      ]
     },
     "execution_count": 66,
     "metadata": {},
     "output_type": "execute_result"
    }
   ],
   "source": [
    "target.reshape(num_batch, batch_size, -1).swapaxes(1, 2).reshape(num_batch, -1)"
   ]
  },
  {
   "cell_type": "code",
   "execution_count": null,
   "metadata": {
    "collapsed": true
   },
   "outputs": [],
   "source": []
  },
  {
   "cell_type": "code",
   "execution_count": null,
   "metadata": {
    "collapsed": true
   },
   "outputs": [],
   "source": []
  }
 ],
 "metadata": {
  "kernelspec": {
   "display_name": "tensorflow",
   "language": "python",
   "name": "tensorflow"
  },
  "language_info": {
   "codemirror_mode": {
    "name": "ipython",
    "version": 3
   },
   "file_extension": ".py",
   "mimetype": "text/x-python",
   "name": "python",
   "nbconvert_exporter": "python",
   "pygments_lexer": "ipython3",
   "version": "3.5.3"
  }
 },
 "nbformat": 4,
 "nbformat_minor": 2
}
